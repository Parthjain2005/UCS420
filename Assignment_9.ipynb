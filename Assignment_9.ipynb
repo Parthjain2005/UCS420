{
  "nbformat": 4,
  "nbformat_minor": 0,
  "metadata": {
    "colab": {
      "provenance": [],
      "authorship_tag": "ABX9TyNuUj6qZtS2tsuIYqFbuFzz",
      "include_colab_link": true
    },
    "kernelspec": {
      "name": "python3",
      "display_name": "Python 3"
    },
    "language_info": {
      "name": "python"
    }
  },
  "cells": [
    {
      "cell_type": "markdown",
      "metadata": {
        "id": "view-in-github",
        "colab_type": "text"
      },
      "source": [
        "<a href=\"https://colab.research.google.com/github/Parthjain2005/UCS420/blob/main/Assignment_9.ipynb\" target=\"_parent\"><img src=\"https://colab.research.google.com/assets/colab-badge.svg\" alt=\"Open In Colab\"/></a>"
      ]
    },
    {
      "cell_type": "markdown",
      "source": [
        "Q1"
      ],
      "metadata": {
        "id": "rnfacMUjsljD"
      }
    },
    {
      "cell_type": "code",
      "source": [
        "import nltk\n",
        "from nltk.corpus import stopwords\n",
        "from nltk.tokenize import word_tokenize, sent_tokenize\n",
        "from collections import Counter\n",
        "import string\n",
        "\n",
        "nltk.download('punkt')\n",
        "nltk.download('stopwords')\n",
        "\n",
        "text = \"my favorite topic is technology, particularly the rapid advancements in artificial intelligence. it fascinates me how machines can learn and adapt, transforming industries and everyday life. from healthcare to finance, the impact is profound. i enjoy reading about new innovations and their potential to solve complex problems. technology is not just about gadgets; it's about improving human experiences.\"\n",
        "\n",
        "text = text.lower().translate(str.maketrans('', '', string.punctuation))\n",
        "words = word_tokenize(text)\n",
        "stop_words = set(stopwords.words('english'))\n",
        "filtered_words = [word for word in words if word not in stop_words]\n",
        "word_freq = Counter(filtered_words)\n",
        "\n",
        "print(word_freq)"
      ],
      "metadata": {
        "colab": {
          "base_uri": "https://localhost:8080/"
        },
        "id": "5CvW1PWusaUv",
        "outputId": "7633fed0-af58-4dd6-c21f-847204adebd5"
      },
      "execution_count": 7,
      "outputs": [
        {
          "output_type": "stream",
          "name": "stdout",
          "text": [
            "Counter({'technology': 2, 'favorite': 1, 'topic': 1, 'particularly': 1, 'rapid': 1, 'advancements': 1, 'artificial': 1, 'intelligence': 1, 'fascinates': 1, 'machines': 1, 'learn': 1, 'adapt': 1, 'transforming': 1, 'industries': 1, 'everyday': 1, 'life': 1, 'healthcare': 1, 'finance': 1, 'impact': 1, 'profound': 1, 'enjoy': 1, 'reading': 1, 'new': 1, 'innovations': 1, 'potential': 1, 'solve': 1, 'complex': 1, 'problems': 1, 'gadgets': 1, 'improving': 1, 'human': 1, 'experiences': 1})\n"
          ]
        },
        {
          "output_type": "stream",
          "name": "stderr",
          "text": [
            "[nltk_data] Downloading package punkt to /root/nltk_data...\n",
            "[nltk_data]   Package punkt is already up-to-date!\n",
            "[nltk_data] Downloading package stopwords to /root/nltk_data...\n",
            "[nltk_data]   Package stopwords is already up-to-date!\n"
          ]
        }
      ]
    },
    {
      "cell_type": "markdown",
      "source": [
        "Q2"
      ],
      "metadata": {
        "id": "1zTvbZF8sm5r"
      }
    },
    {
      "cell_type": "code",
      "source": [
        "import nltk\n",
        "from nltk.stem import PorterStemmer, LancasterStemmer, WordNetLemmatizer\n",
        "\n",
        "nltk.download('wordnet')\n",
        "\n",
        "\n",
        "filtered_words = ['favorite', 'topic', 'technology', 'particularly', 'rapid', 'advancement', 'artificial', 'intelligence',\n",
        "                  'fascinates', 'machines', 'learn', 'adapt', 'transforming', 'industries', 'everyday', 'life',\n",
        "                  'healthcare', 'finance', 'impact', 'profound', 'enjoy', 'reading', 'new', 'innovations',\n",
        "                  'potential', 'solve', 'complex', 'problems', 'technology', 'just', 'gadgets', 'improving',\n",
        "                  'human', 'experiences']\n",
        "\n",
        "porter_stemmer = PorterStemmer()\n",
        "lancaster_stemmer = LancasterStemmer()\n",
        "wordnet_lemmatizer = WordNetLemmatizer()\n",
        "\n",
        "porter_stemmed = [porter_stemmer.stem(word) for word in filtered_words]\n",
        "lancaster_stemmed = [lancaster_stemmer.stem(word) for word in filtered_words]\n",
        "lemmatized = [wordnet_lemmatizer.lemmatize(word) for word in filtered_words]\n",
        "\n",
        "print(\"Porter Stemmed:\", porter_stemmed)\n",
        "print(\"Lancaster Stemmed:\", lancaster_stemmed)\n",
        "print(\"Lemmatized:\", lemmatized)"
      ],
      "metadata": {
        "colab": {
          "base_uri": "https://localhost:8080/"
        },
        "id": "L1wH4prPsnzA",
        "outputId": "b73e12ce-d82a-49d2-aaed-edb6e67244ae"
      },
      "execution_count": 8,
      "outputs": [
        {
          "output_type": "stream",
          "name": "stderr",
          "text": [
            "[nltk_data] Downloading package wordnet to /root/nltk_data...\n"
          ]
        },
        {
          "output_type": "stream",
          "name": "stdout",
          "text": [
            "Porter Stemmed: ['favorit', 'topic', 'technolog', 'particularli', 'rapid', 'advanc', 'artifici', 'intellig', 'fascin', 'machin', 'learn', 'adapt', 'transform', 'industri', 'everyday', 'life', 'healthcar', 'financ', 'impact', 'profound', 'enjoy', 'read', 'new', 'innov', 'potenti', 'solv', 'complex', 'problem', 'technolog', 'just', 'gadget', 'improv', 'human', 'experi']\n",
            "Lancaster Stemmed: ['favorit', 'top', 'technolog', 'particul', 'rapid', 'adv', 'art', 'intellig', 'fascin', 'machin', 'learn', 'adapt', 'transform', 'industry', 'everyday', 'lif', 'healthc', 'fin', 'impact', 'profound', 'enjoy', 'read', 'new', 'innov', 'pot', 'solv', 'complex', 'problem', 'technolog', 'just', 'gadget', 'improv', 'hum', 'expery']\n",
            "Lemmatized: ['favorite', 'topic', 'technology', 'particularly', 'rapid', 'advancement', 'artificial', 'intelligence', 'fascinates', 'machine', 'learn', 'adapt', 'transforming', 'industry', 'everyday', 'life', 'healthcare', 'finance', 'impact', 'profound', 'enjoy', 'reading', 'new', 'innovation', 'potential', 'solve', 'complex', 'problem', 'technology', 'just', 'gadget', 'improving', 'human', 'experience']\n"
          ]
        }
      ]
    },
    {
      "cell_type": "markdown",
      "source": [
        "Q3"
      ],
      "metadata": {
        "id": "bdiBOiJvs39i"
      }
    },
    {
      "cell_type": "code",
      "source": [
        "import re\n",
        "\n",
        "text = \"my favorite topic is technology, particularly the rapid advancements in artificial intelligence. it fascinates me how machines can learn and adapt, transforming industries and everyday life. from healthcare to finance, the impact is profound. i enjoy reading about new innovations and their potential to solve complex problems. technology is not just about gadgets; it's about improving human experiences.\"\n",
        "\n",
        "\n",
        "words_more_than_5 = re.findall(r'\\b\\w{6,}\\b', text)\n",
        "numbers = re.findall(r'\\d+', text)\n",
        "capitalized_words = re.findall(r'\\b[A-Z][a-z]*\\b', text)\n",
        "\n",
        "\n",
        "words_only_alphabets = re.findall(r'\\b[a-zA-Z]+\\b', text)\n",
        "words_starting_with_vowel = re.findall(r'\\b[aeiouAEIOU]\\w*', text)\n",
        "\n",
        "print(\"Words with more than 5 letters:\", words_more_than_5)\n",
        "print(\"Numbers:\", numbers)\n",
        "print(\"Capitalized words:\", capitalized_words)\n",
        "print(\"Words containing only alphabets:\", words_only_alphabets)\n",
        "print(\"Words starting with a vowel:\", words_starting_with_vowel)"
      ],
      "metadata": {
        "colab": {
          "base_uri": "https://localhost:8080/"
        },
        "id": "d1HcLXDEs4m7",
        "outputId": "346bf071-87cc-4f03-dbdf-acd3ac12fca4"
      },
      "execution_count": 9,
      "outputs": [
        {
          "output_type": "stream",
          "name": "stdout",
          "text": [
            "Words with more than 5 letters: ['favorite', 'technology', 'particularly', 'advancements', 'artificial', 'intelligence', 'fascinates', 'machines', 'transforming', 'industries', 'everyday', 'healthcare', 'finance', 'impact', 'profound', 'reading', 'innovations', 'potential', 'complex', 'problems', 'technology', 'gadgets', 'improving', 'experiences']\n",
            "Numbers: []\n",
            "Capitalized words: []\n",
            "Words containing only alphabets: ['my', 'favorite', 'topic', 'is', 'technology', 'particularly', 'the', 'rapid', 'advancements', 'in', 'artificial', 'intelligence', 'it', 'fascinates', 'me', 'how', 'machines', 'can', 'learn', 'and', 'adapt', 'transforming', 'industries', 'and', 'everyday', 'life', 'from', 'healthcare', 'to', 'finance', 'the', 'impact', 'is', 'profound', 'i', 'enjoy', 'reading', 'about', 'new', 'innovations', 'and', 'their', 'potential', 'to', 'solve', 'complex', 'problems', 'technology', 'is', 'not', 'just', 'about', 'gadgets', 'it', 's', 'about', 'improving', 'human', 'experiences']\n",
            "Words starting with a vowel: ['is', 'advancements', 'in', 'artificial', 'intelligence', 'it', 'and', 'adapt', 'industries', 'and', 'everyday', 'impact', 'is', 'i', 'enjoy', 'about', 'innovations', 'and', 'is', 'about', 'it', 'about', 'improving', 'experiences']\n"
          ]
        }
      ]
    },
    {
      "cell_type": "markdown",
      "source": [
        "Q4"
      ],
      "metadata": {
        "id": "uO0XERrBtNm9"
      }
    },
    {
      "cell_type": "code",
      "source": [
        "import re\n",
        "\n",
        "text = \"my favorite topic is technology, particularly the rapid advancements in artificial intelligence. it fascinates me how machines can learn and adapt, transforming industries and everyday life. from healthcare to finance, the impact is profound. i enjoy reading about new innovations and their potential to solve complex problems. technology is not just about gadgets; it's about improving human experiences. for more info, contact me at example@example.com or visit https://www.example.com. call me at 123-456-7890 or +91 9876543210.\"\n",
        "\n",
        "def custom_tokenize(text):\n",
        "    text = re.sub(r'(?<!\\w)(\\d+\\.\\d+|\\d+)(?!\\w)', r' \\1 ', text)\n",
        "    text = re.sub(r'(?<!\\w)([a-zA-Z0-9]+(?:-[a-zA-Z0-9]+)*)', r' \\1 ', text)\n",
        "    text = re.sub(r'(?<!\\w)([a-zA-Z]+(?:\\'[a-zA-Z]+)?)', r' \\1 ', text)\n",
        "    tokens = re.findall(r'\\S+', text)  # Tokenize by whitespace\n",
        "    return tokens\n",
        "\n",
        "\n",
        "text_with_placeholders = re.sub(r'[a-zA-Z0-9._%+-]+@[a-zA-Z0-9.-]+\\.[a-zA-Z]{2,}', '<EMAIL>', text)\n",
        "text_with_placeholders = re.sub(r'https?://[^\\s]+', '<URL>', text_with_placeholders)\n",
        "text_with_placeholders = re.sub(r'\\+?\\d{1,2}\\s?\\d{10}|\\d{3}-\\d{3}-\\d{4}', '<PHONE>', text_with_placeholders)\n",
        "\n",
        "tokens = custom_tokenize(text)\n",
        "\n",
        "print(\"Custom Tokens:\", tokens)\n",
        "print(\"Text with Placeholders:\", text_with_placeholders)"
      ],
      "metadata": {
        "colab": {
          "base_uri": "https://localhost:8080/"
        },
        "id": "QkbYMSKNtOqT",
        "outputId": "274f88a3-864a-4576-c5fb-fdad7c2affe8"
      },
      "execution_count": 10,
      "outputs": [
        {
          "output_type": "stream",
          "name": "stdout",
          "text": [
            "Custom Tokens: ['my', 'favorite', 'topic', 'is', 'technology', ',', 'particularly', 'the', 'rapid', 'advancements', 'in', 'artificial', 'intelligence', '.', 'it', 'fascinates', 'me', 'how', 'machines', 'can', 'learn', 'and', 'adapt', ',', 'transforming', 'industries', 'and', 'everyday', 'life', '.', 'from', 'healthcare', 'to', 'finance', ',', 'the', 'impact', 'is', 'profound', '.', 'i', 'enjoy', 'reading', 'about', 'new', 'innovations', 'and', 'their', 'potential', 'to', 'solve', 'complex', 'problems', '.', 'technology', 'is', 'not', 'just', 'about', 'gadgets', ';', 'it', \"'\", 's', 'about', 'improving', 'human', 'experiences', '.', 'for', 'more', 'info', ',', 'contact', 'me', 'at', 'example', '@', 'example', '.', 'com', 'or', 'visit', 'https', '://', 'www', '.', 'example', '.', 'com', '.', 'call', 'me', 'at', '123', '-', '456', '-', '7890', 'or', '+', '91', '9876543210', '.']\n",
            "Text with Placeholders: my favorite topic is technology, particularly the rapid advancements in artificial intelligence. it fascinates me how machines can learn and adapt, transforming industries and everyday life. from healthcare to finance, the impact is profound. i enjoy reading about new innovations and their potential to solve complex problems. technology is not just about gadgets; it's about improving human experiences. for more info, contact me at <EMAIL> or visit <URL> call me at <PHONE> or <PHONE>.\n"
          ]
        }
      ]
    }
  ]
}