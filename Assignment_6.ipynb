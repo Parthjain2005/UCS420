{
  "nbformat": 4,
  "nbformat_minor": 0,
  "metadata": {
    "colab": {
      "provenance": [],
      "authorship_tag": "ABX9TyM41vmUiAzAowKgKS1IC3Eo",
      "include_colab_link": true
    },
    "kernelspec": {
      "name": "python3",
      "display_name": "Python 3"
    },
    "language_info": {
      "name": "python"
    }
  },
  "cells": [
    {
      "cell_type": "markdown",
      "metadata": {
        "id": "view-in-github",
        "colab_type": "text"
      },
      "source": [
        "<a href=\"https://colab.research.google.com/github/Parthjain2005/UCS712/blob/main/Assignment_6.ipynb\" target=\"_parent\"><img src=\"https://colab.research.google.com/assets/colab-badge.svg\" alt=\"Open In Colab\"/></a>"
      ]
    },
    {
      "cell_type": "markdown",
      "source": [
        "Q6.1"
      ],
      "metadata": {
        "id": "o9NvV_SBPiUV"
      }
    },
    {
      "cell_type": "code",
      "execution_count": 1,
      "metadata": {
        "colab": {
          "base_uri": "https://localhost:8080/"
        },
        "id": "ZoxA45KFMPL8",
        "outputId": "81ed887a-be1c-4eab-932d-f80b84105e14"
      },
      "outputs": [
        {
          "output_type": "stream",
          "name": "stdout",
          "text": [
            "Enter n: 5\n",
            "9\n"
          ]
        }
      ],
      "source": [
        "def is_odd(n):\n",
        "  if n%2!=0:\n",
        "    return True\n",
        "  return False\n",
        "a = int(input(\"Enter n: \"))\n",
        "sum1 = 0\n",
        "for i in range(1,a+1):\n",
        "  if is_odd(i)==True:\n",
        "    sum1 += i\n",
        "print(sum1)"
      ]
    },
    {
      "cell_type": "markdown",
      "source": [
        "Q6.2"
      ],
      "metadata": {
        "id": "STAT1EfhQXUW"
      }
    },
    {
      "cell_type": "code",
      "source": [
        "def IsPrime(n):\n",
        "\tfor i in range(2, n//2 + 1):\n",
        "\t\tif n%i==0:\n",
        "\t\t\treturn 0\n",
        "\treturn 1\n",
        "a = int(input(\"Enter n: \"))\n",
        "sum1 = 0\n",
        "for i in range(1,a+1):\n",
        "  if IsPrime(i)==1:\n",
        "    sum1 += i\n",
        "print(sum1-1)"
      ],
      "metadata": {
        "colab": {
          "base_uri": "https://localhost:8080/"
        },
        "id": "wtPKJT-_QY1A",
        "outputId": "c9a1bf48-c3cf-4855-a3be-6320e1e3ef7b"
      },
      "execution_count": 4,
      "outputs": [
        {
          "output_type": "stream",
          "name": "stdout",
          "text": [
            "Enter n: 10\n",
            "17\n"
          ]
        }
      ]
    }
  ]
}