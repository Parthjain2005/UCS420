{
  "nbformat": 4,
  "nbformat_minor": 0,
  "metadata": {
    "colab": {
      "provenance": [],
      "authorship_tag": "ABX9TyOv0EjKUdpkRzFkMc01k8KD",
      "include_colab_link": true
    },
    "kernelspec": {
      "name": "python3",
      "display_name": "Python 3"
    },
    "language_info": {
      "name": "python"
    }
  },
  "cells": [
    {
      "cell_type": "markdown",
      "metadata": {
        "id": "view-in-github",
        "colab_type": "text"
      },
      "source": [
        "<a href=\"https://colab.research.google.com/github/Parthjain2005/UCS420/blob/main/Assignment_4_Numpy.ipynb\" target=\"_parent\"><img src=\"https://colab.research.google.com/assets/colab-badge.svg\" alt=\"Open In Colab\"/></a>"
      ]
    },
    {
      "cell_type": "markdown",
      "source": [
        "Q1"
      ],
      "metadata": {
        "id": "gH2TYL6sIBR0"
      }
    },
    {
      "cell_type": "code",
      "execution_count": 1,
      "metadata": {
        "colab": {
          "base_uri": "https://localhost:8080/"
        },
        "id": "_9bVt3Q7HmCa",
        "outputId": "f8263257-2dc4-47e2-f0cb-812254635fe6"
      },
      "outputs": [
        {
          "output_type": "stream",
          "name": "stdout",
          "text": [
            "Original Array: [1 2 3 4 5]\n",
            "After Addition: [3 4 5 6 7]\n",
            "After Multiplication: [ 3  6  9 12 15]\n",
            "After Division: [0.5 1.  1.5 2.  2.5]\n"
          ]
        }
      ],
      "source": [
        "import numpy as np\n",
        "\n",
        "arr = np.array([1, 2, 3, 4, 5])\n",
        "\n",
        "add_result = arr + 2\n",
        "multiply_result = arr * 3\n",
        "divide_result = arr / 2\n",
        "\n",
        "print(\"Original Array:\", arr)\n",
        "print(\"After Addition:\", add_result)\n",
        "print(\"After Multiplication:\", multiply_result)\n",
        "print(\"After Division:\", divide_result)\n"
      ]
    },
    {
      "cell_type": "markdown",
      "source": [
        "Q2"
      ],
      "metadata": {
        "id": "NfuvbsZlIC8L"
      }
    },
    {
      "cell_type": "code",
      "source": [
        "import numpy as np\n",
        "\n",
        "arr = np.array([1, 2, 3, 6, 4, 5])\n",
        "reversed_arr = arr[::-1]\n",
        "print(\"Reversed Array:\", reversed_arr)\n",
        "\n",
        "def most_frequent(arr):\n",
        "    unique, counts = np.unique(arr, return_counts=True)\n",
        "    most_frequent_value = unique[np.argmax(counts)]\n",
        "    indices = np.where(arr == most_frequent_value)[0]\n",
        "    return most_frequent_value, indices\n",
        "\n",
        "x = np.array([1, 2, 3, 4, 5, 1, 2, 1, 1, 1])\n",
        "y = np.array([1, 1, 1, 2, 3, 4, 2, 4, 3, 3])\n",
        "\n",
        "most_freq_x, indices_x = most_frequent(x)\n",
        "most_freq_y, indices_y = most_frequent(y)\n",
        "\n",
        "print(f\"Most Frequent in x: {most_freq_x}, Indices: {indices_x}\")\n",
        "print(f\"Most Frequent in y: {most_freq_y}, Indices: {indices_y}\")\n"
      ],
      "metadata": {
        "colab": {
          "base_uri": "https://localhost:8080/"
        },
        "id": "KJFOKr3cIDvO",
        "outputId": "9a2b895b-9ca4-4a31-998b-b9ae5b88ba2e"
      },
      "execution_count": 2,
      "outputs": [
        {
          "output_type": "stream",
          "name": "stdout",
          "text": [
            "Reversed Array: [5 4 6 3 2 1]\n",
            "Most Frequent in x: 1, Indices: [0 5 7 8 9]\n",
            "Most Frequent in y: 1, Indices: [0 1 2]\n"
          ]
        }
      ]
    },
    {
      "cell_type": "markdown",
      "source": [
        "Q3"
      ],
      "metadata": {
        "id": "balnC2IRITi4"
      }
    },
    {
      "cell_type": "code",
      "source": [
        "import numpy as np\n",
        "\n",
        "arr = np.array([[10, 20, 30], [40, 50, 60], [70, 80, 90]])\n",
        "\n",
        "element_a = arr[0, 1]\n",
        "element_b = arr[2, 0]\n",
        "\n",
        "print(\"Element at 1st row, 2nd column:\", element_a)\n",
        "print(\"Element at 3rd row, 1st column:\", element_b)\n"
      ],
      "metadata": {
        "colab": {
          "base_uri": "https://localhost:8080/"
        },
        "id": "JkBe359JIUXc",
        "outputId": "9b54f2d3-7a35-4727-c1f3-1b10cad55b18"
      },
      "execution_count": 3,
      "outputs": [
        {
          "output_type": "stream",
          "name": "stdout",
          "text": [
            "Element at 1st row, 2nd column: 20\n",
            "Element at 3rd row, 1st column: 70\n"
          ]
        }
      ]
    },
    {
      "cell_type": "markdown",
      "source": [
        "Q4"
      ],
      "metadata": {
        "id": "Sjcu4SoMIb2W"
      }
    },
    {
      "cell_type": "code",
      "source": [
        "import numpy as np\n",
        "\n",
        "parth_jain = np.linspace(10, 100, 25)\n",
        "\n",
        "print(\"Dimensions of array:\", parth_jain.ndim)\n",
        "print(\"Shape of array:\", parth_jain.shape)\n",
        "print(\"Total elements in array:\", parth_jain.size)\n",
        "print(\"Data type of each element:\", parth_jain.dtype)\n",
        "print(\"Total bytes consumed by array:\", parth_jain.nbytes)\n",
        "\n",
        "transposed_array = parth_jain.reshape(25, 1)\n",
        "print(\"Transposed Array using reshape():\\n\", transposed_array)\n",
        "\n",
        "transposed_using_T = parth_jain.T\n",
        "print(\"Transposed Array using T attribute:\\n\", transposed_using_T)\n"
      ],
      "metadata": {
        "colab": {
          "base_uri": "https://localhost:8080/"
        },
        "id": "gcuhJujQIcov",
        "outputId": "9fd3a2b0-7373-4bf9-9f9d-62a863f5cb7c"
      },
      "execution_count": 5,
      "outputs": [
        {
          "output_type": "stream",
          "name": "stdout",
          "text": [
            "Dimensions of array: 1\n",
            "Shape of array: (25,)\n",
            "Total elements in array: 25\n",
            "Data type of each element: float64\n",
            "Total bytes consumed by array: 200\n",
            "Transposed Array using reshape():\n",
            " [[ 10.  ]\n",
            " [ 13.75]\n",
            " [ 17.5 ]\n",
            " [ 21.25]\n",
            " [ 25.  ]\n",
            " [ 28.75]\n",
            " [ 32.5 ]\n",
            " [ 36.25]\n",
            " [ 40.  ]\n",
            " [ 43.75]\n",
            " [ 47.5 ]\n",
            " [ 51.25]\n",
            " [ 55.  ]\n",
            " [ 58.75]\n",
            " [ 62.5 ]\n",
            " [ 66.25]\n",
            " [ 70.  ]\n",
            " [ 73.75]\n",
            " [ 77.5 ]\n",
            " [ 81.25]\n",
            " [ 85.  ]\n",
            " [ 88.75]\n",
            " [ 92.5 ]\n",
            " [ 96.25]\n",
            " [100.  ]]\n",
            "Transposed Array using T attribute:\n",
            " [ 10.    13.75  17.5   21.25  25.    28.75  32.5   36.25  40.    43.75\n",
            "  47.5   51.25  55.    58.75  62.5   66.25  70.    73.75  77.5   81.25\n",
            "  85.    88.75  92.5   96.25 100.  ]\n"
          ]
        }
      ]
    },
    {
      "cell_type": "markdown",
      "source": [
        "No, we cannot transpose a 1-D array using the .T attribute because .T works only for 2D or higher-dimensional arrays. However, we can achieve the transpose effect by reshaping it into a 2D column vector using .reshape(25, 1)."
      ],
      "metadata": {
        "id": "9zd72bkkI3E9"
      }
    },
    {
      "cell_type": "markdown",
      "source": [
        "Q5"
      ],
      "metadata": {
        "id": "Mx_rfLudI72M"
      }
    },
    {
      "cell_type": "code",
      "source": [
        "import numpy as np\n",
        "\n",
        "ucs420_parth = np.array([[10, 20, 30, 40],\n",
        "                          [50, 60, 70, 80],\n",
        "                          [90, 15, 20, 35]])\n",
        "\n",
        "mean_value = np.mean(ucs420_parth)\n",
        "median_value = np.median(ucs420_parth)\n",
        "max_value = np.max(ucs420_parth)\n",
        "min_value = np.min(ucs420_parth)\n",
        "unique_elements = np.unique(ucs420_parth)\n",
        "\n",
        "reshaped_ucs420_parth = ucs420_parth.reshape(4, 3)\n",
        "\n",
        "resized_ucs420_parth = np.resize(ucs420_parth, (2, 3))\n",
        "\n",
        "print(\"Mean:\", mean_value)\n",
        "print(\"Median:\", median_value)\n",
        "print(\"Max:\", max_value)\n",
        "print(\"Min:\", min_value)\n",
        "print(\"Unique Elements:\", unique_elements)\n",
        "print(\"Reshaped Array (4x3):\\n\", reshaped_ucs420_parth)\n",
        "print(\"Resized Array (2x3):\\n\", resized_ucs420_parth)\n"
      ],
      "metadata": {
        "colab": {
          "base_uri": "https://localhost:8080/"
        },
        "id": "s_oKwiWMI8nN",
        "outputId": "44648aba-6ec0-4160-97a8-954a79034bab"
      },
      "execution_count": 6,
      "outputs": [
        {
          "output_type": "stream",
          "name": "stdout",
          "text": [
            "Mean: 43.333333333333336\n",
            "Median: 37.5\n",
            "Max: 90\n",
            "Min: 10\n",
            "Unique Elements: [10 15 20 30 35 40 50 60 70 80 90]\n",
            "Reshaped Array (4x3):\n",
            " [[10 20 30]\n",
            " [40 50 60]\n",
            " [70 80 90]\n",
            " [15 20 35]]\n",
            "Resized Array (2x3):\n",
            " [[10 20 30]\n",
            " [40 50 60]]\n"
          ]
        }
      ]
    }
  ]
}