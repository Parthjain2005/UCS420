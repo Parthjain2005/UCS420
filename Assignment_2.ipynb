{
  "nbformat": 4,
  "nbformat_minor": 0,
  "metadata": {
    "colab": {
      "provenance": [],
      "authorship_tag": "ABX9TyPlr3w/eIU+Rq+O26cfifs1",
      "include_colab_link": true
    },
    "kernelspec": {
      "name": "python3",
      "display_name": "Python 3"
    },
    "language_info": {
      "name": "python"
    }
  },
  "cells": [
    {
      "cell_type": "markdown",
      "metadata": {
        "id": "view-in-github",
        "colab_type": "text"
      },
      "source": [
        "<a href=\"https://colab.research.google.com/github/Parthjain2005/UCS420/blob/main/Assignment_2.ipynb\" target=\"_parent\"><img src=\"https://colab.research.google.com/assets/colab-badge.svg\" alt=\"Open In Colab\"/></a>"
      ]
    },
    {
      "cell_type": "markdown",
      "source": [
        "Q1"
      ],
      "metadata": {
        "id": "qU1pI8D3bFPC"
      }
    },
    {
      "cell_type": "code",
      "execution_count": 1,
      "metadata": {
        "colab": {
          "base_uri": "https://localhost:8080/"
        },
        "id": "89qdEB2JawF7",
        "outputId": "42f2f187-ed02-43e4-e531-92bc1b4c9198"
      },
      "outputs": [
        {
          "output_type": "stream",
          "name": "stdout",
          "text": [
            "After adding 200 and 300: [10, 20, 30, 40, 50, 60, 70, 80, 200, 300]\n",
            "After removing 10 and 30: [20, 40, 50, 60, 70, 80, 200, 300]\n",
            "List sorted in ascending order: [20, 40, 50, 60, 70, 80, 200, 300]\n",
            "List sorted in descending order: [300, 200, 80, 70, 60, 50, 40, 20]\n"
          ]
        }
      ],
      "source": [
        "L = [10, 20, 30, 40, 50, 60, 70, 80]\n",
        "\n",
        "L.append(200)\n",
        "L.append(300)\n",
        "print(\"After adding 200 and 300:\", L)\n",
        "\n",
        "L.remove(10)\n",
        "L.remove(30)\n",
        "print(\"After removing 10 and 30:\", L)\n",
        "\n",
        "L.sort()\n",
        "print(\"List sorted in ascending order:\", L)\n",
        "\n",
        "L.sort(reverse=True)\n",
        "print(\"List sorted in descending order:\", L)\n",
        "\n"
      ]
    },
    {
      "cell_type": "markdown",
      "source": [
        "Q2"
      ],
      "metadata": {
        "id": "dcKBDyaObkKa"
      }
    },
    {
      "cell_type": "code",
      "source": [
        "scores = (45, 89.5, 76, 45.4, 89, 92, 58, 45)\n",
        "\n",
        "highest_score = max(scores)\n",
        "highest_score_index = scores.index(highest_score)\n",
        "print(\"Highest score:\", highest_score)\n",
        "print(\"Index of highest score:\", highest_score_index)\n",
        "\n",
        "lowest_score = min(scores)\n",
        "lowest_score_count = scores.count(lowest_score)\n",
        "print(\"Lowest score:\", lowest_score)\n",
        "print(\"Count of lowest score:\", lowest_score_count)\n",
        "\n",
        "reversed_scores = list(scores[::-1])\n",
        "print(\"Reversed tuple as list:\", reversed_scores)\n",
        "\n",
        "score_to_check = float(input(\"Enter a score to check: \"))\n",
        "if score_to_check in scores:\n",
        "    first_occurrence_index = scores.index(score_to_check)\n",
        "    print(f\"The score {score_to_check} is present at index {first_occurrence_index}.\")\n",
        "else:\n",
        "    print(f\"The score {score_to_check} is not present in the tuple.\")\n"
      ],
      "metadata": {
        "colab": {
          "base_uri": "https://localhost:8080/"
        },
        "id": "TBePtUF0blox",
        "outputId": "ff7ae7e7-9efe-4b22-d137-95e4542bbe8b"
      },
      "execution_count": 3,
      "outputs": [
        {
          "output_type": "stream",
          "name": "stdout",
          "text": [
            "Highest score: 92\n",
            "Index of highest score: 5\n",
            "Lowest score: 45\n",
            "Count of lowest score: 2\n",
            "Reversed tuple as list: [45, 58, 92, 89, 45.4, 76, 89.5, 45]\n",
            "Enter a score to check: 92\n",
            "The score 92.0 is present at index 5.\n"
          ]
        }
      ]
    },
    {
      "cell_type": "markdown",
      "source": [
        "Q3"
      ],
      "metadata": {
        "id": "KaUmaTYzekep"
      }
    },
    {
      "cell_type": "code",
      "source": [
        "import random\n",
        "\n",
        "def is_prime(n):\n",
        "    if n <= 1:\n",
        "        return False\n",
        "    for i in range(2, int(n ** 0.5) + 1):\n",
        "        if n % i == 0:\n",
        "            return False\n",
        "    return True\n",
        "\n",
        "random_numbers = [random.randint(100, 900) for _ in range(100)]\n",
        "\n",
        "odd_numbers = [num for num in random_numbers if num % 2 != 0]\n",
        "even_numbers = [num for num in random_numbers if num % 2 == 0]\n",
        "prime_numbers = [num for num in random_numbers if is_prime(num)]\n",
        "\n",
        "print(\"Odd numbers:\", odd_numbers)\n",
        "print(\"Even numbers:\", even_numbers)\n",
        "print(\"Prime numbers:\", prime_numbers)\n",
        "print(\"Count of odd numbers:\", len(odd_numbers))\n",
        "print(\"Count of even numbers:\", len(even_numbers))\n",
        "print(\"Count of prime numbers:\", len(prime_numbers))\n"
      ],
      "metadata": {
        "colab": {
          "base_uri": "https://localhost:8080/"
        },
        "id": "itUPJ4Q-emN4",
        "outputId": "b15d2ee1-72fb-4ba2-ce96-9b369f7a2799"
      },
      "execution_count": 4,
      "outputs": [
        {
          "output_type": "stream",
          "name": "stdout",
          "text": [
            "Odd numbers: [489, 653, 185, 581, 513, 453, 117, 867, 251, 307, 133, 821, 741, 279, 141, 279, 709, 219, 431, 773, 429, 265, 753, 263, 321, 453, 379, 147, 897, 743, 579, 609, 833, 507, 121, 145, 605, 459, 189, 765, 791, 421, 137, 647, 839, 319]\n",
            "Even numbers: [354, 838, 382, 690, 814, 716, 838, 714, 680, 742, 248, 882, 184, 350, 832, 214, 642, 460, 600, 672, 304, 706, 788, 446, 488, 694, 500, 898, 282, 852, 322, 318, 606, 348, 898, 278, 104, 626, 340, 282, 464, 604, 848, 224, 576, 758, 784, 128, 182, 154, 664, 410, 176, 744]\n",
            "Prime numbers: [653, 251, 307, 821, 709, 431, 773, 263, 379, 743, 421, 137, 647, 839]\n",
            "Count of odd numbers: 46\n",
            "Count of even numbers: 54\n",
            "Count of prime numbers: 14\n"
          ]
        }
      ]
    },
    {
      "cell_type": "markdown",
      "source": [
        "Q4"
      ],
      "metadata": {
        "id": "YLespCtTfc2g"
      }
    },
    {
      "cell_type": "code",
      "source": [
        "A = {34, 56, 78, 90}\n",
        "B = {78, 45, 90, 23}\n",
        "\n",
        "unique_scores = A.union(B)\n",
        "print(\"Unique scores (Union of sets):\", unique_scores)\n",
        "\n",
        "common_scores = A.intersection(B)\n",
        "print(\"Common scores (Intersection of sets):\", common_scores)\n",
        "\n",
        "exclusive_scores = A.symmetric_difference(B)\n",
        "print(\"Exclusive scores (Symmetric difference):\", exclusive_scores)\n",
        "\n",
        "is_subset = A.issubset(B)\n",
        "is_superset = B.issuperset(A)\n",
        "print(\"Are team A's scores a subset of team B?\", is_subset)\n",
        "print(\"Are team B's scores a superset of team A?\", is_superset)\n",
        "\n",
        "score_to_remove = int(input(\"Enter a score to remove from team A: \"))\n",
        "if score_to_remove in A:\n",
        "    A.remove(score_to_remove)\n",
        "    print(f\"Score {score_to_remove} removed from team A.\")\n",
        "else:\n",
        "    print(f\"Score {score_to_remove} is not present in team A.\")\n"
      ],
      "metadata": {
        "id": "jaD2SiDjfd1A",
        "colab": {
          "base_uri": "https://localhost:8080/"
        },
        "outputId": "40633cf6-59b3-4b96-cc93-e6ee2310b61e"
      },
      "execution_count": 5,
      "outputs": [
        {
          "output_type": "stream",
          "name": "stdout",
          "text": [
            "Unique scores (Union of sets): {34, 45, 78, 23, 56, 90}\n",
            "Common scores (Intersection of sets): {90, 78}\n",
            "Exclusive scores (Symmetric difference): {34, 45, 23, 56}\n",
            "Are team A's scores a subset of team B? False\n",
            "Are team B's scores a superset of team A? False\n",
            "Enter a score to remove from team A: 78\n",
            "Score 78 removed from team A.\n"
          ]
        }
      ]
    },
    {
      "cell_type": "markdown",
      "source": [
        "Q5"
      ],
      "metadata": {
        "id": "5G_5BRJLAp1d"
      }
    },
    {
      "cell_type": "code",
      "source": [
        "sample_dict = {\n",
        "    \"name\": \"Kelly\",\n",
        "    \"age\": 25,\n",
        "    \"salary\": 8000,\n",
        "    \"city\": \"New york\"\n",
        "}\n",
        "sample_dict[\"location\"] = sample_dict.pop(\"city\")\n",
        "print(sample_dict)"
      ],
      "metadata": {
        "colab": {
          "base_uri": "https://localhost:8080/"
        },
        "id": "6PwZBidrAqs2",
        "outputId": "46165a01-1516-4b8f-8c61-3ea7cff562d5"
      },
      "execution_count": 6,
      "outputs": [
        {
          "output_type": "stream",
          "name": "stdout",
          "text": [
            "{'name': 'Kelly', 'age': 25, 'salary': 8000, 'location': 'New york'}\n"
          ]
        }
      ]
    }
  ]
}