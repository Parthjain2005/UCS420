{
  "nbformat": 4,
  "nbformat_minor": 0,
  "metadata": {
    "colab": {
      "provenance": [],
      "authorship_tag": "ABX9TyOvC20/UXIvQw3ziAWLN4Yp",
      "include_colab_link": true
    },
    "kernelspec": {
      "name": "python3",
      "display_name": "Python 3"
    },
    "language_info": {
      "name": "python"
    }
  },
  "cells": [
    {
      "cell_type": "markdown",
      "metadata": {
        "id": "view-in-github",
        "colab_type": "text"
      },
      "source": [
        "<a href=\"https://colab.research.google.com/github/Parthjain2005/UCS712/blob/main/Assignment_2.ipynb\" target=\"_parent\"><img src=\"https://colab.research.google.com/assets/colab-badge.svg\" alt=\"Open In Colab\"/></a>"
      ]
    },
    {
      "cell_type": "markdown",
      "source": [
        "Q2.1"
      ],
      "metadata": {
        "id": "k9HwBK-SXaOP"
      }
    },
    {
      "cell_type": "code",
      "execution_count": 1,
      "metadata": {
        "colab": {
          "base_uri": "https://localhost:8080/"
        },
        "id": "Tud8faxkXE9a",
        "outputId": "71f74f47-20a4-4627-ad31-74cbec9b6404"
      },
      "outputs": [
        {
          "output_type": "stream",
          "name": "stdout",
          "text": [
            "6\n"
          ]
        }
      ],
      "source": [
        "a = 1\n",
        "b = 2\n",
        "c = 3\n",
        "print(a+b+c)"
      ]
    },
    {
      "cell_type": "markdown",
      "source": [
        "Q2.2"
      ],
      "metadata": {
        "id": "4H9HKSOwXdJ3"
      }
    },
    {
      "cell_type": "code",
      "source": [
        "a = \"Parth \"\n",
        "b = \"Jain \"\n",
        "c = \"2Q26\"\n",
        "print(a + b + c)"
      ],
      "metadata": {
        "colab": {
          "base_uri": "https://localhost:8080/"
        },
        "id": "gMxh5K5gXZs2",
        "outputId": "ada6c339-e3c3-4bb3-eb1e-0eb8556039a0"
      },
      "execution_count": 2,
      "outputs": [
        {
          "output_type": "stream",
          "name": "stdout",
          "text": [
            "Parth Jain 2Q26\n"
          ]
        }
      ]
    }
  ]
}