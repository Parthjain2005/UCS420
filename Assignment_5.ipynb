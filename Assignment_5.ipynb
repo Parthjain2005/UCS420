{
  "nbformat": 4,
  "nbformat_minor": 0,
  "metadata": {
    "colab": {
      "provenance": [],
      "authorship_tag": "ABX9TyNLzpChZwXDR2y8qxHecBon",
      "include_colab_link": true
    },
    "kernelspec": {
      "name": "python3",
      "display_name": "Python 3"
    },
    "language_info": {
      "name": "python"
    }
  },
  "cells": [
    {
      "cell_type": "markdown",
      "metadata": {
        "id": "view-in-github",
        "colab_type": "text"
      },
      "source": [
        "<a href=\"https://colab.research.google.com/github/Parthjain2005/UCS712/blob/main/Assignment_5.ipynb\" target=\"_parent\"><img src=\"https://colab.research.google.com/assets/colab-badge.svg\" alt=\"Open In Colab\"/></a>"
      ]
    },
    {
      "cell_type": "markdown",
      "source": [
        "Q5.1"
      ],
      "metadata": {
        "id": "QdkuVArxaLi1"
      }
    },
    {
      "cell_type": "code",
      "execution_count": 1,
      "metadata": {
        "colab": {
          "base_uri": "https://localhost:8080/"
        },
        "id": "9rgziW_maAgR",
        "outputId": "f0e8dfb3-a320-40c2-9d71-ee12fca8ab6c"
      },
      "outputs": [
        {
          "output_type": "stream",
          "name": "stdout",
          "text": [
            "Enter 1st number: 5\n",
            "Enter 2nd number: 6\n",
            "Enter 3rd number: 3\n",
            "6\n"
          ]
        }
      ],
      "source": [
        "a = int(input(\"Enter 1st number: \"))\n",
        "b = int(input(\"Enter 2nd number: \"))\n",
        "c = int(input(\"Enter 3rd number: \"))\n",
        "print(max(a,b,c))"
      ]
    },
    {
      "cell_type": "markdown",
      "source": [
        "Q5.2"
      ],
      "metadata": {
        "id": "QU3qGOGMa15F"
      }
    },
    {
      "cell_type": "code",
      "source": [
        "a = int(input(\"Enter n: \"))\n",
        "sum1 = 0\n",
        "for i in range(1,a+1):\n",
        "  if i%7==0 and i%9==0:\n",
        "    sum1 = sum1 + i\n",
        "print(sum1)"
      ],
      "metadata": {
        "colab": {
          "base_uri": "https://localhost:8080/"
        },
        "id": "tH7wk0kVa5D1",
        "outputId": "ce9a1282-5d99-45e6-e4c7-08dcc0360c9a"
      },
      "execution_count": 4,
      "outputs": [
        {
          "output_type": "stream",
          "name": "stdout",
          "text": [
            "Enter n: 100\n",
            "63\n"
          ]
        }
      ]
    },
    {
      "cell_type": "markdown",
      "source": [
        "Q5.3"
      ],
      "metadata": {
        "id": "TSOi5ldObyXc"
      }
    },
    {
      "cell_type": "code",
      "source": [
        "def is_prime(n):\n",
        "    if n <= 1:\n",
        "        return False\n",
        "    for i in range(2, int(n ** 0.5) + 1):\n",
        "        if n % i == 0:\n",
        "            return False\n",
        "    return True\n",
        "a = int(input(\"Enter n: \"))\n",
        "sum1 = 0\n",
        "for i in range(1,a+1):\n",
        "  b = is_prime(i)\n",
        "  if b==True:\n",
        "    sum1 += i\n",
        "print(sum1)\n"
      ],
      "metadata": {
        "colab": {
          "base_uri": "https://localhost:8080/"
        },
        "id": "ZxqaVIF_bzpL",
        "outputId": "709e8485-9611-4053-c8c1-8b8304fcf247"
      },
      "execution_count": 6,
      "outputs": [
        {
          "output_type": "stream",
          "name": "stdout",
          "text": [
            "Enter n: 10\n",
            "17\n"
          ]
        }
      ]
    }
  ]
}