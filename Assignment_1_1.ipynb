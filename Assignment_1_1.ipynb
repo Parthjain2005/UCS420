{
  "nbformat": 4,
  "nbformat_minor": 0,
  "metadata": {
    "colab": {
      "provenance": []
    },
    "kernelspec": {
      "name": "python3",
      "display_name": "Python 3"
    },
    "language_info": {
      "name": "python"
    }
  },
  "cells": [
    {
      "cell_type": "code",
      "execution_count": 3,
      "metadata": {
        "colab": {
          "base_uri": "https://localhost:8080/"
        },
        "id": "F5kz8fvTUksM",
        "outputId": "cc5f24ba-0e64-4843-936f-c0c7ab1a0bbe"
      },
      "outputs": [
        {
          "output_type": "stream",
          "name": "stdout",
          "text": [
            "Parth Jain\n",
            "Parth Jain\n",
            "Parth Jain\n"
          ]
        }
      ],
      "source": [
        "print(\"Parth Jain\")\n",
        "print(\"Parth Jain\")\n",
        "print(\"Parth Jain\")"
      ]
    }
  ]
}